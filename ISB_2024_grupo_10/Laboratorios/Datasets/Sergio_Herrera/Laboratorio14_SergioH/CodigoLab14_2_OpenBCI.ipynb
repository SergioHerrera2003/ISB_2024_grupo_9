{
 "cells": [
  {
   "cell_type": "code",
   "execution_count": 1,
   "metadata": {},
   "outputs": [],
   "source": [
    "import os\n",
    "import numpy as np\n",
    "import matplotlib.pyplot as plt\n",
    "import requests\n",
    "import csv"
   ]
  },
  {
   "cell_type": "code",
   "execution_count": 9,
   "metadata": {},
   "outputs": [
    {
     "name": "stdout",
     "output_type": "stream",
     "text": [
      "(22491, 22)\n",
      "[[ 0.000000e+00  0.000000e+00  0.000000e+00  0.000000e+00  0.000000e+00\n",
      "   0.000000e+00  0.000000e+00  0.000000e+00  0.000000e+00  0.000000e+00\n",
      "   0.000000e+00  0.000000e+00  0.000000e+00  0.000000e+00  0.000000e+00\n",
      "   0.000000e+00  0.000000e+00  0.000000e+00  0.000000e+00  0.000000e+00\n",
      "   0.000000e+00  0.000000e+00]\n",
      " [ 0.000000e+00  6.137936e+04  4.949289e+04 -1.659706e+04 -2.130975e+04\n",
      "   6.703910e+03 -3.284860e+03  7.223100e+03  1.740110e+03  4.000000e-02\n",
      "   4.200000e-01  2.380000e-01  0.000000e+00  0.000000e+00  0.000000e+00\n",
      "   0.000000e+00  0.000000e+00  0.000000e+00  0.000000e+00  0.000000e+00\n",
      "   0.000000e+00  0.000000e+00]\n",
      " [ 1.000000e+00  6.097346e+04  4.897247e+04 -1.627902e+04 -2.105013e+04\n",
      "   7.045020e+03 -2.887530e+03  7.593090e+03  2.118700e+03  4.000000e-02\n",
      "   4.200000e-01  2.380000e-01  0.000000e+00  0.000000e+00  0.000000e+00\n",
      "   0.000000e+00  0.000000e+00  0.000000e+00  0.000000e+00  0.000000e+00\n",
      "   0.000000e+00  0.000000e+00]\n",
      " [ 2.000000e+00  6.143345e+04  4.948627e+04 -1.624572e+04 -2.092025e+04\n",
      "   7.035700e+03 -2.916120e+03  7.561150e+03  2.090850e+03  4.000000e-02\n",
      "   4.200000e-01  2.380000e-01  0.000000e+00  0.000000e+00  0.000000e+00\n",
      "   0.000000e+00  0.000000e+00  0.000000e+00  0.000000e+00  0.000000e+00\n",
      "   0.000000e+00  0.000000e+00]\n",
      " [ 3.000000e+00  6.178896e+04  4.991757e+04 -1.648830e+04 -2.114799e+04\n",
      "   6.770810e+03 -3.223320e+03  7.286270e+03  1.805860e+03  4.000000e-02\n",
      "   4.200000e-01  2.380000e-01  0.000000e+00  0.000000e+00  0.000000e+00\n",
      "   0.000000e+00  0.000000e+00  0.000000e+00  0.000000e+00  0.000000e+00\n",
      "   0.000000e+00  0.000000e+00]]\n"
     ]
    }
   ],
   "source": [
    "def read_openbci_txt_file(file_path):\n",
    "    with open(file_path, 'r') as file:\n",
    "        lines = file.readlines()\n",
    "    \n",
    "    data_lines = lines[4:]  # Omitir las primeras líneas de encabezado\n",
    "    data = []\n",
    "    for line in data_lines:\n",
    "        parts = line.strip().split(',')\n",
    "        # Convertir todas las columnas excepto las dos últimas (timestamp y hora)\n",
    "        float_parts = list(map(float, parts[:-2]))\n",
    "        data.append(float_parts)\n",
    "    return np.array(data)\n",
    "\n",
    "txt_file_path = 'OpenBCI_GUI-v5-ojos abiertos_cerrados.txt'\n",
    "data = read_openbci_txt_file(txt_file_path)\n",
    "\n",
    "# Validar la lectura de datos\n",
    "print(data.shape)\n",
    "print(data[:5])  # Mostrar las primeras 5 filas para verificar\n"
   ]
  },
  {
   "cell_type": "code",
   "execution_count": 10,
   "metadata": {},
   "outputs": [
    {
     "name": "stdout",
     "output_type": "stream",
     "text": [
      "La señal que más varía es la columna 5\n"
     ]
    }
   ],
   "source": [
    "def find_most_varying_signal(data):\n",
    "    # Ignorar la primera columna (número de muestra) y las últimas dos columnas (timestamp y hora)\n",
    "    signal_data = data[:, 1:-2]\n",
    "    variances = np.var(signal_data, axis=0)\n",
    "    most_varying_signal_index = np.argmax(variances) + 1  # +1 porque ignoramos la primera columna\n",
    "    return most_varying_signal_index\n",
    "\n",
    "most_varying_signal_index = find_most_varying_signal(data)\n",
    "print(f'La señal que más varía es la columna {most_varying_signal_index}')"
   ]
  },
  {
   "cell_type": "code",
   "execution_count": 11,
   "metadata": {},
   "outputs": [
    {
     "name": "stdout",
     "output_type": "stream",
     "text": [
      "Se han creado los archivos CSV en la carpeta output_windows_openbci_ejercicios\n"
     ]
    }
   ],
   "source": [
    "def create_csv_windows(data, signal_index, window_size, output_folder):\n",
    "    if not os.path.exists(output_folder):\n",
    "        os.makedirs(output_folder)\n",
    "    \n",
    "    num_windows = len(data) // window_size\n",
    "    for i in range(num_windows):\n",
    "        window_data = data[i * window_size:(i + 1) * window_size, signal_index]\n",
    "        output_file = os.path.join(output_folder, f'EMG.sig_{i}.csv')\n",
    "        with open(output_file, 'w', newline='') as csvfile:\n",
    "            writer = csv.writer(csvfile)\n",
    "            writer.writerow(['timestamp', 'signal'])\n",
    "            for j, value in enumerate(window_data):\n",
    "                writer.writerow([j, value])\n",
    "\n",
    "# Definir el tamaño de la ventana y la carpeta de salida\n",
    "Fs = 1000\n",
    "window_size = 2*Fs  # Como hay mucha duración, tomaré como ventaneo 2 segundos\n",
    "output_folder = 'output_windows_openbci_ejercicios'\n",
    "create_csv_windows(data, most_varying_signal_index, window_size, output_folder)\n",
    "print(f'Se han creado los archivos CSV en la carpeta {output_folder}')"
   ]
  },
  {
   "cell_type": "code",
   "execution_count": 12,
   "metadata": {},
   "outputs": [
    {
     "name": "stdout",
     "output_type": "stream",
     "text": [
      "Uploaded output_windows_openbci_ejercicios\\EMG.sig_0.csv to Edge Impulse successfully.\n",
      "Uploaded output_windows_openbci_ejercicios\\EMG.sig_1.csv to Edge Impulse successfully.\n",
      "Uploaded output_windows_openbci_ejercicios\\EMG.sig_10.csv to Edge Impulse successfully.\n",
      "Uploaded output_windows_openbci_ejercicios\\EMG.sig_2.csv to Edge Impulse successfully.\n",
      "Uploaded output_windows_openbci_ejercicios\\EMG.sig_3.csv to Edge Impulse successfully.\n",
      "Uploaded output_windows_openbci_ejercicios\\EMG.sig_4.csv to Edge Impulse successfully.\n",
      "Uploaded output_windows_openbci_ejercicios\\EMG.sig_5.csv to Edge Impulse successfully.\n",
      "Uploaded output_windows_openbci_ejercicios\\EMG.sig_6.csv to Edge Impulse successfully.\n",
      "Uploaded output_windows_openbci_ejercicios\\EMG.sig_7.csv to Edge Impulse successfully.\n",
      "Uploaded output_windows_openbci_ejercicios\\EMG.sig_8.csv to Edge Impulse successfully.\n",
      "Uploaded output_windows_openbci_ejercicios\\EMG.sig_9.csv to Edge Impulse successfully.\n"
     ]
    }
   ],
   "source": [
    "def upload_files_to_edge_impulse(api_key, label, folder_path):\n",
    "    url = 'https://ingestion.edgeimpulse.com/api/training/files'\n",
    "    headers = {\n",
    "        'x-api-key': api_key,\n",
    "        'x-label': label,\n",
    "    }\n",
    "    files = [os.path.join(folder_path, f) for f in os.listdir(folder_path) if f.endswith('.csv')]\n",
    "    for file_path in files:\n",
    "        with open(file_path, 'rb') as file:\n",
    "            files_payload = {'data': (os.path.basename(file_path), file, 'application/csv')}\n",
    "            res = requests.post(url, headers=headers, files=files_payload)\n",
    "            if res.status_code == 200:\n",
    "                print(f'Uploaded {file_path} to Edge Impulse successfully.')\n",
    "            else:\n",
    "                print(f'Failed to upload {file_path} to Edge Impulse. Status code: {res.status_code}')\n",
    "\n",
    "api_key = 'ei_51b8790275170673d369726381038ceadcc54546810ff47d8eb0e78978783422'\n",
    "label = 'eeg_ejericios_ULtracortex'\n",
    "upload_files_to_edge_impulse(api_key, label, output_folder)"
   ]
  }
 ],
 "metadata": {
  "kernelspec": {
   "display_name": "Python 3",
   "language": "python",
   "name": "python3"
  },
  "language_info": {
   "codemirror_mode": {
    "name": "ipython",
    "version": 3
   },
   "file_extension": ".py",
   "mimetype": "text/x-python",
   "name": "python",
   "nbconvert_exporter": "python",
   "pygments_lexer": "ipython3",
   "version": "3.11.1"
  }
 },
 "nbformat": 4,
 "nbformat_minor": 2
}
