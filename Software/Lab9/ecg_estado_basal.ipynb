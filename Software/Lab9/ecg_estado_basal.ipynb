{
 "cells": [
  {
   "cell_type": "markdown",
   "metadata": {},
   "source": [
    "ADQUISICIÓN Y PLOTEO DE LA SEÑAL ECG EN ESTADO BASAL"
   ]
  },
  {
   "cell_type": "code",
   "execution_count": 11,
   "metadata": {},
   "outputs": [
    {
     "name": "stderr",
     "output_type": "stream",
     "text": [
      "<>:8: SyntaxWarning: invalid escape sequence '\\S'\n",
      "<>:8: SyntaxWarning: invalid escape sequence '\\S'\n",
      "C:\\Users\\kakow\\AppData\\Local\\Temp\\ipykernel_2288\\1182819099.py:8: SyntaxWarning: invalid escape sequence '\\S'\n",
      "  ruta = \"Documentacion\\Señales\\Señales_ECG\\ECG_respiracion_normal.txt\"\n"
     ]
    },
    {
     "ename": "FileNotFoundError",
     "evalue": "Documentacion\\Señales\\Señales_ECG\\ECG_respiracion_normal.txt not found.",
     "output_type": "error",
     "traceback": [
      "\u001b[1;31m---------------------------------------------------------------------------\u001b[0m",
      "\u001b[1;31mFileNotFoundError\u001b[0m                         Traceback (most recent call last)",
      "Cell \u001b[1;32mIn[11], line 11\u001b[0m\n\u001b[0;32m      8\u001b[0m ruta \u001b[38;5;241m=\u001b[39m \u001b[38;5;124m\"\u001b[39m\u001b[38;5;124mDocumentacion\u001b[39m\u001b[38;5;124m\\\u001b[39m\u001b[38;5;124mSeñales\u001b[39m\u001b[38;5;124m\\\u001b[39m\u001b[38;5;124mSeñales_ECG\u001b[39m\u001b[38;5;124m\\\u001b[39m\u001b[38;5;124mECG_respiracion_normal.txt\u001b[39m\u001b[38;5;124m\"\u001b[39m\n\u001b[0;32m     10\u001b[0m \u001b[38;5;66;03m# Lectura del archivo excluyendo las 2 primeras filas\u001b[39;00m\n\u001b[1;32m---> 11\u001b[0m array \u001b[38;5;241m=\u001b[39m \u001b[43mnp\u001b[49m\u001b[38;5;241;43m.\u001b[39;49m\u001b[43mgenfromtxt\u001b[49m\u001b[43m(\u001b[49m\u001b[43mruta\u001b[49m\u001b[43m,\u001b[49m\u001b[43m \u001b[49m\u001b[43mskip_header\u001b[49m\u001b[38;5;241;43m=\u001b[39;49m\u001b[38;5;241;43m2\u001b[39;49m\u001b[43m)\u001b[49m\n\u001b[0;32m     13\u001b[0m \u001b[38;5;66;03m# Asegurarse de que la columna indexada es la correcta (columna 6)\u001b[39;00m\n\u001b[0;32m     14\u001b[0m canalA2 \u001b[38;5;241m=\u001b[39m array[:, \u001b[38;5;241m6\u001b[39m]  \u001b[38;5;66;03m# Todas las filas de la columna 6 -> Canal A2 ECG\u001b[39;00m\n",
      "File \u001b[1;32mc:\\Users\\kakow\\AppData\\Local\\Programs\\Python\\Python312\\Lib\\site-packages\\numpy\\lib\\npyio.py:1980\u001b[0m, in \u001b[0;36mgenfromtxt\u001b[1;34m(fname, dtype, comments, delimiter, skip_header, skip_footer, converters, missing_values, filling_values, usecols, names, excludelist, deletechars, replace_space, autostrip, case_sensitive, defaultfmt, unpack, usemask, loose, invalid_raise, max_rows, encoding, ndmin, like)\u001b[0m\n\u001b[0;32m   1978\u001b[0m     fname \u001b[38;5;241m=\u001b[39m os_fspath(fname)\n\u001b[0;32m   1979\u001b[0m \u001b[38;5;28;01mif\u001b[39;00m \u001b[38;5;28misinstance\u001b[39m(fname, \u001b[38;5;28mstr\u001b[39m):\n\u001b[1;32m-> 1980\u001b[0m     fid \u001b[38;5;241m=\u001b[39m \u001b[43mnp\u001b[49m\u001b[38;5;241;43m.\u001b[39;49m\u001b[43mlib\u001b[49m\u001b[38;5;241;43m.\u001b[39;49m\u001b[43m_datasource\u001b[49m\u001b[38;5;241;43m.\u001b[39;49m\u001b[43mopen\u001b[49m\u001b[43m(\u001b[49m\u001b[43mfname\u001b[49m\u001b[43m,\u001b[49m\u001b[43m \u001b[49m\u001b[38;5;124;43m'\u001b[39;49m\u001b[38;5;124;43mrt\u001b[39;49m\u001b[38;5;124;43m'\u001b[39;49m\u001b[43m,\u001b[49m\u001b[43m \u001b[49m\u001b[43mencoding\u001b[49m\u001b[38;5;241;43m=\u001b[39;49m\u001b[43mencoding\u001b[49m\u001b[43m)\u001b[49m\n\u001b[0;32m   1981\u001b[0m     fid_ctx \u001b[38;5;241m=\u001b[39m contextlib\u001b[38;5;241m.\u001b[39mclosing(fid)\n\u001b[0;32m   1982\u001b[0m \u001b[38;5;28;01melse\u001b[39;00m:\n",
      "File \u001b[1;32mc:\\Users\\kakow\\AppData\\Local\\Programs\\Python\\Python312\\Lib\\site-packages\\numpy\\lib\\_datasource.py:193\u001b[0m, in \u001b[0;36mopen\u001b[1;34m(path, mode, destpath, encoding, newline)\u001b[0m\n\u001b[0;32m    156\u001b[0m \u001b[38;5;250m\u001b[39m\u001b[38;5;124;03m\"\"\"\u001b[39;00m\n\u001b[0;32m    157\u001b[0m \u001b[38;5;124;03mOpen `path` with `mode` and return the file object.\u001b[39;00m\n\u001b[0;32m    158\u001b[0m \n\u001b[1;32m   (...)\u001b[0m\n\u001b[0;32m    189\u001b[0m \n\u001b[0;32m    190\u001b[0m \u001b[38;5;124;03m\"\"\"\u001b[39;00m\n\u001b[0;32m    192\u001b[0m ds \u001b[38;5;241m=\u001b[39m DataSource(destpath)\n\u001b[1;32m--> 193\u001b[0m \u001b[38;5;28;01mreturn\u001b[39;00m \u001b[43mds\u001b[49m\u001b[38;5;241;43m.\u001b[39;49m\u001b[43mopen\u001b[49m\u001b[43m(\u001b[49m\u001b[43mpath\u001b[49m\u001b[43m,\u001b[49m\u001b[43m \u001b[49m\u001b[43mmode\u001b[49m\u001b[43m,\u001b[49m\u001b[43m \u001b[49m\u001b[43mencoding\u001b[49m\u001b[38;5;241;43m=\u001b[39;49m\u001b[43mencoding\u001b[49m\u001b[43m,\u001b[49m\u001b[43m \u001b[49m\u001b[43mnewline\u001b[49m\u001b[38;5;241;43m=\u001b[39;49m\u001b[43mnewline\u001b[49m\u001b[43m)\u001b[49m\n",
      "File \u001b[1;32mc:\\Users\\kakow\\AppData\\Local\\Programs\\Python\\Python312\\Lib\\site-packages\\numpy\\lib\\_datasource.py:533\u001b[0m, in \u001b[0;36mDataSource.open\u001b[1;34m(self, path, mode, encoding, newline)\u001b[0m\n\u001b[0;32m    530\u001b[0m     \u001b[38;5;28;01mreturn\u001b[39;00m _file_openers[ext](found, mode\u001b[38;5;241m=\u001b[39mmode,\n\u001b[0;32m    531\u001b[0m                               encoding\u001b[38;5;241m=\u001b[39mencoding, newline\u001b[38;5;241m=\u001b[39mnewline)\n\u001b[0;32m    532\u001b[0m \u001b[38;5;28;01melse\u001b[39;00m:\n\u001b[1;32m--> 533\u001b[0m     \u001b[38;5;28;01mraise\u001b[39;00m \u001b[38;5;167;01mFileNotFoundError\u001b[39;00m(\u001b[38;5;124mf\u001b[39m\u001b[38;5;124m\"\u001b[39m\u001b[38;5;132;01m{\u001b[39;00mpath\u001b[38;5;132;01m}\u001b[39;00m\u001b[38;5;124m not found.\u001b[39m\u001b[38;5;124m\"\u001b[39m)\n",
      "\u001b[1;31mFileNotFoundError\u001b[0m: Documentacion\\Señales\\Señales_ECG\\ECG_respiracion_normal.txt not found."
     ]
    }
   ],
   "source": [
    "import numpy as np\n",
    "import matplotlib.pyplot as plt\n",
    "import pywt\n",
    "from scipy.signal import find_peaks\n",
    "from scipy.signal import butter, filtfilt\n",
    "\n",
    "# Ruta del archivo\n",
    "ruta = \"Documentacion\\Señales\\Señales_ECG\\ECG_respiracion_normal.txt\"\n",
    "\n",
    "# Lectura del archivo excluyendo las 2 primeras filas\n",
    "array = np.genfromtxt(ruta, skip_header=2)\n",
    "\n",
    "# Asegurarse de que la columna indexada es la correcta (columna 6)\n",
    "canalA2 = array[:, 6]  # Todas las filas de la columna 6 -> Canal A2 ECG\n",
    "\n",
    "# Parámetros de muestreo\n",
    "Fs = 1000\n",
    "Ts = 1/Fs\n",
    "print(f\" Fs = {Fs} Hz\\n Ts = {Ts} s\")\n",
    "\n",
    "# Para conocer el número de filas\n",
    "M = canalA2.shape[0]  # shape devuelve una tupla con dimensiones del array\n",
    "n = np.arange(0, M)\n",
    "t = n * Ts  # Vector de tiempo\n",
    "\n",
    "# Ploteamos la lectura\n",
    "plt.figure(figsize=(12, 6), dpi=100)  # Tamaño de la figura y resolución\n",
    "plt.plot(t, canalA2, label=\"Señal EMG\", color='b', linewidth=1.0)  # Color y grosor de la línea\n",
    "plt.grid(linestyle=\":\", which='both', color='gray', alpha=0.7)  # Mejorar la cuadrícula\n",
    "plt.title(\"EMG Basal\", fontsize=14)  # Tamaño de la fuente del título\n",
    "plt.xlabel(\"Tiempo (s)\", fontsize=12)  # Tamaño de la fuente de la etiqueta del eje x\n",
    "plt.ylabel(\"Amplitud (mV)\", fontsize=12)  # Tamaño de la fuente de la etiqueta del eje y\n",
    "plt.xlim([0, 5])  # Límite del eje x\n",
    "plt.ylim([min(canalA2) - 0.1, max(canalA2) + 0.1])  # Límite del eje y ajustado\n",
    "plt.legend(loc=\"upper right\", fontsize=10)  # Tamaño de la fuente de la leyenda\n",
    "plt.xticks(fontsize=10)  # Tamaño de la fuente de los ticks del eje x\n",
    "plt.yticks(fontsize=10)  # Tamaño de la fuente de los ticks del eje y\n",
    "plt.tight_layout()  # Ajustar el diseño para que no se corten las etiquetas\n",
    "plt.show()"
   ]
  },
  {
   "cell_type": "markdown",
   "metadata": {},
   "source": []
  }
 ],
 "metadata": {
  "kernelspec": {
   "display_name": "Python 3",
   "language": "python",
   "name": "python3"
  },
  "language_info": {
   "codemirror_mode": {
    "name": "ipython",
    "version": 3
   },
   "file_extension": ".py",
   "mimetype": "text/x-python",
   "name": "python",
   "nbconvert_exporter": "python",
   "pygments_lexer": "ipython3",
   "version": "3.12.3"
  }
 },
 "nbformat": 4,
 "nbformat_minor": 2
}
