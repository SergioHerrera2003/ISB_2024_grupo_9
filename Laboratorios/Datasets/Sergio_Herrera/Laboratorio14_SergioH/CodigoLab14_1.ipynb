{
 "cells": [
  {
   "cell_type": "code",
   "execution_count": 1,
   "metadata": {},
   "outputs": [],
   "source": [
    "# Importar las librerías necesarias\n",
    "import os\n",
    "import numpy as np\n",
    "import requests\n",
    "import csv"
   ]
  },
  {
   "cell_type": "code",
   "execution_count": 48,
   "metadata": {},
   "outputs": [],
   "source": [
    "# Definir la función para leer y procesar el archivo .txt\n",
    "def read_txt_file(file_path):\n",
    "    with open(file_path, 'r') as file:\n",
    "        lines = file.readlines()\n",
    "    \n",
    "    # Encontrar el índice donde termina el encabezado\n",
    "    end_of_header = 0\n",
    "    for i, line in enumerate(lines):\n",
    "        if line.strip() == '# EndOfHeader':\n",
    "            end_of_header = i\n",
    "            break\n",
    "    \n",
    "    # Leer los datos desde el final del encabezado\n",
    "    data_lines = lines[end_of_header + 1:]\n",
    "    data = [list(map(int, line.strip().split('\\t'))) for line in data_lines]\n",
    "    return np.array(data)\n",
    "\n",
    "# Ruta del archivo .txt\n",
    "txt_file_path = 'respondiendo_preguntas_12seg.txt'\n",
    "\n",
    "# Leer los datos del archivo\n",
    "data = read_txt_file(txt_file_path)"
   ]
  },
  {
   "cell_type": "code",
   "execution_count": 49,
   "metadata": {},
   "outputs": [
    {
     "name": "stdout",
     "output_type": "stream",
     "text": [
      "La señal que más varía es la columna 8\n"
     ]
    }
   ],
   "source": [
    "# Identificar la señal que más varía (columna con la mayor desviación estándar)\n",
    "def find_most_varying_signal(data):\n",
    "    variances = np.var(data, axis=0)\n",
    "    most_varying_signal_index = np.argmax(variances)\n",
    "    return most_varying_signal_index\n",
    "\n",
    "most_varying_signal_index = find_most_varying_signal(data)\n",
    "print(f'La señal que más varía es la columna {most_varying_signal_index}')"
   ]
  },
  {
   "cell_type": "code",
   "execution_count": 50,
   "metadata": {},
   "outputs": [
    {
     "name": "stdout",
     "output_type": "stream",
     "text": [
      "Se han creado los archivos CSV en la carpeta output_windows_EEG_PREGUNTAS\n"
     ]
    }
   ],
   "source": [
    "# Ventaneo de los datos y creación de archivos CSV\n",
    "def create_csv_windows(data, signal_index, window_size, output_folder):\n",
    "    if not os.path.exists(output_folder):\n",
    "        os.makedirs(output_folder)\n",
    "    \n",
    "    num_windows = len(data) // window_size\n",
    "    for i in range(num_windows):\n",
    "        window_data = data[i * window_size:(i + 1) * window_size, signal_index]\n",
    "        output_file = os.path.join(output_folder, f'EMG.sig_{i}.csv')\n",
    "        with open(output_file, 'w', newline='') as csvfile:\n",
    "            writer = csv.writer(csvfile)\n",
    "            writer.writerow(['timestamp', 'signal'])\n",
    "            for j, value in enumerate(window_data):\n",
    "                writer.writerow([j, value])\n",
    "\n",
    "# Definir el tamaño de la ventana y la carpeta de salida\n",
    "Fs = 1000\n",
    "window_size = 2*Fs  # Como hay mucha duración, tomaré como ventaneo 2 segundos\n",
    "output_folder = 'output_windows_EEG_PREGUNTAS'\n",
    "\n",
    "# Crear los archivos CSV por ventana\n",
    "create_csv_windows(data, most_varying_signal_index, window_size, output_folder)\n",
    "print(f'Se han creado los archivos CSV en la carpeta {output_folder}')"
   ]
  },
  {
   "cell_type": "code",
   "execution_count": 51,
   "metadata": {},
   "outputs": [
    {
     "name": "stdout",
     "output_type": "stream",
     "text": [
      "Uploaded output_windows_EEG_PREGUNTAS\\EMG.sig_0.csv to Edge Impulse successfully.\n",
      "Uploaded output_windows_EEG_PREGUNTAS\\EMG.sig_1.csv to Edge Impulse successfully.\n",
      "Uploaded output_windows_EEG_PREGUNTAS\\EMG.sig_10.csv to Edge Impulse successfully.\n",
      "Uploaded output_windows_EEG_PREGUNTAS\\EMG.sig_11.csv to Edge Impulse successfully.\n",
      "Uploaded output_windows_EEG_PREGUNTAS\\EMG.sig_12.csv to Edge Impulse successfully.\n",
      "Uploaded output_windows_EEG_PREGUNTAS\\EMG.sig_13.csv to Edge Impulse successfully.\n",
      "Uploaded output_windows_EEG_PREGUNTAS\\EMG.sig_14.csv to Edge Impulse successfully.\n",
      "Uploaded output_windows_EEG_PREGUNTAS\\EMG.sig_15.csv to Edge Impulse successfully.\n",
      "Uploaded output_windows_EEG_PREGUNTAS\\EMG.sig_16.csv to Edge Impulse successfully.\n",
      "Uploaded output_windows_EEG_PREGUNTAS\\EMG.sig_17.csv to Edge Impulse successfully.\n",
      "Uploaded output_windows_EEG_PREGUNTAS\\EMG.sig_18.csv to Edge Impulse successfully.\n",
      "Uploaded output_windows_EEG_PREGUNTAS\\EMG.sig_19.csv to Edge Impulse successfully.\n",
      "Uploaded output_windows_EEG_PREGUNTAS\\EMG.sig_2.csv to Edge Impulse successfully.\n",
      "Uploaded output_windows_EEG_PREGUNTAS\\EMG.sig_20.csv to Edge Impulse successfully.\n",
      "Uploaded output_windows_EEG_PREGUNTAS\\EMG.sig_21.csv to Edge Impulse successfully.\n",
      "Uploaded output_windows_EEG_PREGUNTAS\\EMG.sig_22.csv to Edge Impulse successfully.\n",
      "Uploaded output_windows_EEG_PREGUNTAS\\EMG.sig_23.csv to Edge Impulse successfully.\n",
      "Uploaded output_windows_EEG_PREGUNTAS\\EMG.sig_24.csv to Edge Impulse successfully.\n",
      "Uploaded output_windows_EEG_PREGUNTAS\\EMG.sig_25.csv to Edge Impulse successfully.\n",
      "Uploaded output_windows_EEG_PREGUNTAS\\EMG.sig_26.csv to Edge Impulse successfully.\n",
      "Uploaded output_windows_EEG_PREGUNTAS\\EMG.sig_27.csv to Edge Impulse successfully.\n",
      "Uploaded output_windows_EEG_PREGUNTAS\\EMG.sig_28.csv to Edge Impulse successfully.\n",
      "Uploaded output_windows_EEG_PREGUNTAS\\EMG.sig_29.csv to Edge Impulse successfully.\n",
      "Uploaded output_windows_EEG_PREGUNTAS\\EMG.sig_3.csv to Edge Impulse successfully.\n",
      "Uploaded output_windows_EEG_PREGUNTAS\\EMG.sig_30.csv to Edge Impulse successfully.\n",
      "Uploaded output_windows_EEG_PREGUNTAS\\EMG.sig_31.csv to Edge Impulse successfully.\n",
      "Uploaded output_windows_EEG_PREGUNTAS\\EMG.sig_32.csv to Edge Impulse successfully.\n",
      "Uploaded output_windows_EEG_PREGUNTAS\\EMG.sig_33.csv to Edge Impulse successfully.\n",
      "Uploaded output_windows_EEG_PREGUNTAS\\EMG.sig_34.csv to Edge Impulse successfully.\n",
      "Uploaded output_windows_EEG_PREGUNTAS\\EMG.sig_35.csv to Edge Impulse successfully.\n",
      "Uploaded output_windows_EEG_PREGUNTAS\\EMG.sig_36.csv to Edge Impulse successfully.\n",
      "Uploaded output_windows_EEG_PREGUNTAS\\EMG.sig_37.csv to Edge Impulse successfully.\n",
      "Uploaded output_windows_EEG_PREGUNTAS\\EMG.sig_38.csv to Edge Impulse successfully.\n",
      "Uploaded output_windows_EEG_PREGUNTAS\\EMG.sig_39.csv to Edge Impulse successfully.\n",
      "Uploaded output_windows_EEG_PREGUNTAS\\EMG.sig_4.csv to Edge Impulse successfully.\n",
      "Uploaded output_windows_EEG_PREGUNTAS\\EMG.sig_40.csv to Edge Impulse successfully.\n",
      "Uploaded output_windows_EEG_PREGUNTAS\\EMG.sig_41.csv to Edge Impulse successfully.\n",
      "Uploaded output_windows_EEG_PREGUNTAS\\EMG.sig_42.csv to Edge Impulse successfully.\n",
      "Uploaded output_windows_EEG_PREGUNTAS\\EMG.sig_43.csv to Edge Impulse successfully.\n",
      "Uploaded output_windows_EEG_PREGUNTAS\\EMG.sig_44.csv to Edge Impulse successfully.\n",
      "Uploaded output_windows_EEG_PREGUNTAS\\EMG.sig_45.csv to Edge Impulse successfully.\n",
      "Uploaded output_windows_EEG_PREGUNTAS\\EMG.sig_46.csv to Edge Impulse successfully.\n",
      "Uploaded output_windows_EEG_PREGUNTAS\\EMG.sig_47.csv to Edge Impulse successfully.\n",
      "Uploaded output_windows_EEG_PREGUNTAS\\EMG.sig_48.csv to Edge Impulse successfully.\n",
      "Uploaded output_windows_EEG_PREGUNTAS\\EMG.sig_49.csv to Edge Impulse successfully.\n",
      "Uploaded output_windows_EEG_PREGUNTAS\\EMG.sig_5.csv to Edge Impulse successfully.\n",
      "Uploaded output_windows_EEG_PREGUNTAS\\EMG.sig_50.csv to Edge Impulse successfully.\n",
      "Uploaded output_windows_EEG_PREGUNTAS\\EMG.sig_51.csv to Edge Impulse successfully.\n",
      "Uploaded output_windows_EEG_PREGUNTAS\\EMG.sig_52.csv to Edge Impulse successfully.\n",
      "Uploaded output_windows_EEG_PREGUNTAS\\EMG.sig_53.csv to Edge Impulse successfully.\n",
      "Uploaded output_windows_EEG_PREGUNTAS\\EMG.sig_54.csv to Edge Impulse successfully.\n",
      "Uploaded output_windows_EEG_PREGUNTAS\\EMG.sig_55.csv to Edge Impulse successfully.\n",
      "Uploaded output_windows_EEG_PREGUNTAS\\EMG.sig_56.csv to Edge Impulse successfully.\n",
      "Uploaded output_windows_EEG_PREGUNTAS\\EMG.sig_57.csv to Edge Impulse successfully.\n",
      "Uploaded output_windows_EEG_PREGUNTAS\\EMG.sig_58.csv to Edge Impulse successfully.\n",
      "Uploaded output_windows_EEG_PREGUNTAS\\EMG.sig_59.csv to Edge Impulse successfully.\n",
      "Uploaded output_windows_EEG_PREGUNTAS\\EMG.sig_6.csv to Edge Impulse successfully.\n",
      "Uploaded output_windows_EEG_PREGUNTAS\\EMG.sig_60.csv to Edge Impulse successfully.\n",
      "Uploaded output_windows_EEG_PREGUNTAS\\EMG.sig_61.csv to Edge Impulse successfully.\n",
      "Uploaded output_windows_EEG_PREGUNTAS\\EMG.sig_62.csv to Edge Impulse successfully.\n",
      "Uploaded output_windows_EEG_PREGUNTAS\\EMG.sig_63.csv to Edge Impulse successfully.\n",
      "Uploaded output_windows_EEG_PREGUNTAS\\EMG.sig_64.csv to Edge Impulse successfully.\n",
      "Uploaded output_windows_EEG_PREGUNTAS\\EMG.sig_65.csv to Edge Impulse successfully.\n",
      "Uploaded output_windows_EEG_PREGUNTAS\\EMG.sig_66.csv to Edge Impulse successfully.\n",
      "Uploaded output_windows_EEG_PREGUNTAS\\EMG.sig_67.csv to Edge Impulse successfully.\n",
      "Uploaded output_windows_EEG_PREGUNTAS\\EMG.sig_68.csv to Edge Impulse successfully.\n",
      "Uploaded output_windows_EEG_PREGUNTAS\\EMG.sig_69.csv to Edge Impulse successfully.\n",
      "Uploaded output_windows_EEG_PREGUNTAS\\EMG.sig_7.csv to Edge Impulse successfully.\n",
      "Uploaded output_windows_EEG_PREGUNTAS\\EMG.sig_8.csv to Edge Impulse successfully.\n",
      "Uploaded output_windows_EEG_PREGUNTAS\\EMG.sig_9.csv to Edge Impulse successfully.\n"
     ]
    }
   ],
   "source": [
    "# Subir los archivos CSV generados a Edge Impulse\n",
    "def upload_files_to_edge_impulse(api_key, label, folder_path):\n",
    "    url = 'https://ingestion.edgeimpulse.com/api/training/files'\n",
    "    headers = {\n",
    "        'x-api-key': api_key,\n",
    "        'x-label': label,\n",
    "    }\n",
    "    files = [os.path.join(folder_path, f) for f in os.listdir(folder_path) if f.endswith('.csv')]\n",
    "    for file_path in files:\n",
    "        with open(file_path, 'rb') as file:\n",
    "            files_payload = {'data': (os.path.basename(file_path), file, 'application/csv')}\n",
    "            res = requests.post(url, headers=headers, files=files_payload)\n",
    "            if res.status_code == 200:\n",
    "                print(f'Uploaded {file_path} to Edge Impulse successfully.')\n",
    "            else:\n",
    "                print(f'Failed to upload {file_path} to Edge Impulse. Status code: {res.status_code}')\n",
    "\n",
    "# Definir la clave de API y la etiqueta\n",
    "api_key = 'ei_51b8790275170673d369726381038ceadcc54546810ff47d8eb0e78978783422'\n",
    "label = 'eeg_preguntas'\n",
    "\n",
    "# Subir los archivos a Edge Impulse\n",
    "upload_files_to_edge_impulse(api_key, label, output_folder)"
   ]
  }
 ],
 "metadata": {
  "kernelspec": {
   "display_name": "Python 3",
   "language": "python",
   "name": "python3"
  },
  "language_info": {
   "codemirror_mode": {
    "name": "ipython",
    "version": 3
   },
   "file_extension": ".py",
   "mimetype": "text/x-python",
   "name": "python",
   "nbconvert_exporter": "python",
   "pygments_lexer": "ipython3",
   "version": "3.11.1"
  }
 },
 "nbformat": 4,
 "nbformat_minor": 2
}
